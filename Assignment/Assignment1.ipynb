{
 "cells": [
  {
   "cell_type": "markdown",
   "metadata": {},
   "source": [
    "#  Question number 1\n",
    "How do lists and tuples differ in terms of mutability and \n",
    "performance? When would you choose one over the other?"
   ]
  },
  {
   "cell_type": "markdown",
   "metadata": {},
   "source": [
    "List is mutabke and can be changed according to the user but tuple is not mutable and it cannot be change according to the user.\n",
    "Memory usage is high in list while lower in tuple.\n",
    "\n",
    "Use a List when:\n",
    "You need to modify, add, or remove elements frequently.\n",
    "The data is dynamic.\n",
    "\n",
    "Use a Tuple when:\n",
    "You want to store fixed data that shouldn't change (e.g., days of the week).\n",
    "You need faster performance."
   ]
  },
  {
   "cell_type": "markdown",
   "metadata": {},
   "source": [
    "# Questuon number 2\n",
    " Explain how Python handles type conversion between different data \n",
    "types, such as between integers and floats or between strings and \n",
    "lists. "
   ]
  },
  {
   "cell_type": "code",
   "execution_count": null,
   "metadata": {},
   "outputs": [
    {
     "name": "stdout",
     "output_type": "stream",
     "text": [
      "7.5\n",
      "<class 'float'>\n"
     ]
    }
   ],
   "source": [
    "num_int = 5\n",
    "num_float = 2.5\n",
    "\n",
    "result = num_int + num_float \n",
    "print(result) \n",
    "print(type(result))  \n",
    "# this is called implicit type conversion in which Python automatically converts one data type into another without losing information.\n"
   ]
  },
  {
   "cell_type": "code",
   "execution_count": 8,
   "metadata": {},
   "outputs": [
    {
     "name": "stdout",
     "output_type": "stream",
     "text": [
      "10 <class 'str'>\n"
     ]
    }
   ],
   "source": [
    "num = 10\n",
    "num_str = str(num)  # Convert integer to string\n",
    "print(num_str, type(num_str)) \n",
    "# this is called explicit type conversion in which conversion is done Done manually using built-in functions like int(), float(), str(), list(), tuple(), etc.\n",
    "\n",
    "\n"
   ]
  },
  {
   "cell_type": "code",
   "execution_count": 9,
   "metadata": {},
   "outputs": [
    {
     "name": "stdout",
     "output_type": "stream",
     "text": [
      "20 <class 'int'>\n"
     ]
    }
   ],
   "source": [
    "num_str = \"20\"\n",
    "num_int = int(num_str)  # Convert string to integer\n",
    "print(num_int, type(num_int)) \n"
   ]
  },
  {
   "cell_type": "code",
   "execution_count": 10,
   "metadata": {},
   "outputs": [
    {
     "name": "stdout",
     "output_type": "stream",
     "text": [
      "['h', 'e', 'l', 'l', 'o']\n"
     ]
    }
   ],
   "source": [
    "text = \"hello\"\n",
    "text_list = list(text)  # Convert string to list\n",
    "print(text_list)  \n"
   ]
  },
  {
   "cell_type": "code",
   "execution_count": null,
   "metadata": {},
   "outputs": [
    {
     "name": "stdout",
     "output_type": "stream",
     "text": [
      "(1, 2, 3)\n"
     ]
    }
   ],
   "source": [
    "my_list = [1, 2, 3]\n",
    "my_tuple = tuple(my_list)  # Convert list to tuple\n",
    "print(my_tuple) \n"
   ]
  },
  {
   "cell_type": "markdown",
   "metadata": {},
   "source": [
    "# Question number 3\n",
    "Take a number and use the += operator to increase its value by 10. "
   ]
  },
  {
   "cell_type": "code",
   "execution_count": 4,
   "metadata": {},
   "outputs": [
    {
     "name": "stdout",
     "output_type": "stream",
     "text": [
      "The updated number is: 15\n"
     ]
    }
   ],
   "source": [
    "number = 5\n",
    "\n",
    "number += 10\n",
    "\n",
    "\n",
    "print(\"The updated number is:\", number)\n"
   ]
  },
  {
   "cell_type": "markdown",
   "metadata": {},
   "source": [
    "# Question number 4\n",
    " Write a Python program to check if a given year is a leap year or not. "
   ]
  },
  {
   "cell_type": "code",
   "execution_count": 5,
   "metadata": {},
   "outputs": [
    {
     "name": "stdout",
     "output_type": "stream",
     "text": [
      "2024 is a leap year.\n"
     ]
    }
   ],
   "source": [
    "year = int(input(\"Enter a year: \"))\n",
    "\n",
    "if year % 4 == 0:  \n",
    "    if year % 100 == 0:  \n",
    "        if year % 400 == 0:  \n",
    "            print(year, \"is a leap year.\")  \n",
    "        else:  \n",
    "            print(year, \"is not a leap year.\")  \n",
    "    else:  \n",
    "        print(year, \"is a leap year.\")  \n",
    "else:  \n",
    "    print(year, \"is not a leap year.\")  \n"
   ]
  },
  {
   "cell_type": "markdown",
   "metadata": {},
   "source": [
    "# Question number 5\n",
    "Write a program that asks the user to enter their marks and displays \n",
    "their grade"
   ]
  },
  {
   "cell_type": "code",
   "execution_count": 6,
   "metadata": {},
   "outputs": [
    {
     "name": "stdout",
     "output_type": "stream",
     "text": [
      "Your Grade is F\n"
     ]
    }
   ],
   "source": [
    "marks  = int(input(\"enter the marks : \"))\n",
    "\n",
    "if 90 <= marks <= 100:\n",
    "    grade = \"A\"\n",
    "elif 80 <= marks < 90:\n",
    "    grade = \"B\"\n",
    "elif 70 <= marks < 80:\n",
    "    grade = \"C\"\n",
    "elif 60 <= marks < 70:\n",
    "    grade = \"D\"\n",
    "else:\n",
    "    grade = \"F\"\n",
    "\n",
    "print(f\"Your Grade is {grade}\")"
   ]
  },
  {
   "cell_type": "code",
   "execution_count": null,
   "metadata": {},
   "outputs": [],
   "source": []
  }
 ],
 "metadata": {
  "kernelspec": {
   "display_name": "Python 3",
   "language": "python",
   "name": "python3"
  },
  "language_info": {
   "codemirror_mode": {
    "name": "ipython",
    "version": 3
   },
   "file_extension": ".py",
   "mimetype": "text/x-python",
   "name": "python",
   "nbconvert_exporter": "python",
   "pygments_lexer": "ipython3",
   "version": "3.12.2"
  }
 },
 "nbformat": 4,
 "nbformat_minor": 2
}
